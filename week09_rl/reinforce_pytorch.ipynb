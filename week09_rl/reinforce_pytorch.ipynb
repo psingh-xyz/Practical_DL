{
  "cells": [
    {
      "cell_type": "markdown",
      "metadata": {
        "id": "28MM-dGxw4Hm"
      },
      "source": [
        "# REINFORCE in PyTorch\n",
        "\n",
        "Just like we did before for Q-learning, this time we'll design a PyTorch network to learn `CartPole-v0` via policy gradient (REINFORCE).\n",
        "\n",
        "Most of the code in this notebook is taken from approximate Q-learning, so you'll find it more or less familiar and even simpler."
      ]
    },
    {
      "cell_type": "code",
      "execution_count": 1,
      "metadata": {
        "id": "vnQtzBu7w4Hp",
        "outputId": "9976b9bd-4e51-4718-be1b-21d857be76ed",
        "colab": {
          "base_uri": "https://localhost:8080/"
        }
      },
      "outputs": [
        {
          "output_type": "stream",
          "name": "stdout",
          "text": [
            "Starting virtual X frame buffer: Xvfb.\n"
          ]
        }
      ],
      "source": [
        "import sys, os\n",
        "if 'google.colab' in sys.modules and not os.path.exists('.setup_complete'):\n",
        "    !wget -q https://raw.githubusercontent.com/yandexdataschool/Practical_RL/master/setup_colab.sh -O- | bash\n",
        "    !pip install -q gymnasium\n",
        "    !pip install moviepy\n",
        "    !apt install ffmpeg\n",
        "    !pip install imageio-ffmpeg\n",
        "    !touch .setup_complete\n",
        "\n",
        "# This code creates a virtual display to draw game images on.\n",
        "# It will have no effect if your machine has a monitor.\n",
        "if type(os.environ.get(\"DISPLAY\")) is not str or len(os.environ.get(\"DISPLAY\")) == 0:\n",
        "    !bash ../xvfb start\n",
        "    os.environ['DISPLAY'] = ':1'"
      ]
    },
    {
      "cell_type": "code",
      "execution_count": 2,
      "metadata": {
        "id": "-cJkIpLlw4Hq"
      },
      "outputs": [],
      "source": [
        "import gymnasium as gym\n",
        "import numpy as np\n",
        "import matplotlib.pyplot as plt\n",
        "%matplotlib inline"
      ]
    },
    {
      "cell_type": "code",
      "execution_count": 3,
      "metadata": {
        "id": "gxX50zfcw4Hr"
      },
      "outputs": [],
      "source": [
        "# also you need to install ffmpeg if not installed\n",
        "# for MacOS: ! brew install ffmpeg"
      ]
    },
    {
      "cell_type": "markdown",
      "metadata": {
        "id": "Pc80qwxvw4Hr"
      },
      "source": [
        "A caveat: with some versions of `pyglet`, the following cell may crash with `NameError: name 'base' is not defined`. The corresponding bug report is [here](https://github.com/pyglet/pyglet/issues/134). If you see this error, try restarting the kernel."
      ]
    },
    {
      "cell_type": "code",
      "execution_count": 3,
      "metadata": {
        "id": "WYQcxwQYw4Hr",
        "outputId": "6b951234-1a43-43b2-d979-7a77dc5d167d",
        "colab": {
          "base_uri": "https://localhost:8080/",
          "height": 413
        }
      },
      "outputs": [
        {
          "output_type": "execute_result",
          "data": {
            "text/plain": [
              "<matplotlib.image.AxesImage at 0x7aa4b0dfe7d0>"
            ]
          },
          "metadata": {},
          "execution_count": 3
        },
        {
          "output_type": "display_data",
          "data": {
            "text/plain": [
              "<Figure size 640x480 with 1 Axes>"
            ],
            "image/png": "[encoded data removed]"
          },
          "metadata": {}
        }
      ],
      "source": [
        "env = gym.make(\"CartPole-v1\", render_mode=\"rgb_array\")\n",
        "\n",
        "# gym compatibility: unwrap TimeLimit\n",
        "if hasattr(env, '_max_episode_steps'):\n",
        "    env = env.env\n",
        "\n",
        "env.reset()\n",
        "n_actions = env.action_space.n\n",
        "state_dim = env.observation_space.shape\n",
        "\n",
        "plt.imshow(env.render())"
      ]
    },
    {
      "cell_type": "markdown",
      "metadata": {
        "id": "7CHIJUuDw4Ht"
      },
      "source": [
        "# Building the network for REINFORCE"
      ]
    },
    {
      "cell_type": "markdown",
      "metadata": {
        "id": "kJnyE-2kw4Ht"
      },
      "source": [
        "For REINFORCE algorithm, we'll need a model that predicts action probabilities given states.\n",
        "\n",
        "For numerical stability, please __do not include the softmax layer into your network architecture__.\n",
        "We'll use softmax or log-softmax where appropriate."
      ]
    },
    {
      "cell_type": "code",
      "execution_count": 4,
      "metadata": {
        "id": "Vhc5o8VAw4Ht"
      },
      "outputs": [],
      "source": [
        "import torch\n",
        "import torch.nn as nn\n",
        "import torch.nn.functional as F"
      ]
    },
    {
      "cell_type": "code",
      "execution_count": 5,
      "metadata": {
        "id": "4T4_uJMQw4Hu"
      },
      "outputs": [],
      "source": [
        "# Build a simple neural network that predicts policy logits.\n",
        "# Keep it simple: CartPole isn't worth deep architectures.\n",
        "model = nn.Sequential(\n",
        "   nn.Linear(in_features=4, out_features=32),  # Input size 4 for CartPole environment\n",
        "    nn.ReLU(),\n",
        "    nn.Linear(in_features=32, out_features=2)   # Output size 2 for the number of actions\n",
        ")"
      ]
    },
    {
      "cell_type": "markdown",
      "metadata": {
        "id": "kznkpWW8w4Hu"
      },
      "source": [
        "#### Predict function"
      ]
    },
    {
      "cell_type": "markdown",
      "metadata": {
        "id": "rLW-MERdw4Hu"
      },
      "source": [
        "Note: output value of this function is not a torch tensor, it's a numpy array.\n",
        "So, here gradient calculation is not needed.\n",
        "<br>\n",
        "Use [no_grad](https://pytorch.org/docs/stable/autograd.html#torch.autograd.no_grad)\n",
        "to suppress gradient calculation.\n",
        "<br>\n",
        "Also, `.detach()` (or legacy `.data` property) can be used instead, but there is a difference:\n",
        "<br>\n",
        "With `.detach()` computational graph is built but then disconnected from a particular tensor,\n",
        "so `.detach()` should be used if that graph is needed for backprop via some other (not detached) tensor;\n",
        "<br>\n",
        "In contrast, no graph is built by any operation in `no_grad()` context, thus it's preferable here."
      ]
    },
    {
      "cell_type": "code",
      "execution_count": 7,
      "metadata": {
        "id": "l-o3xW2Sw4Hu"
      },
      "outputs": [],
      "source": [
        "def predict_probs(states):\n",
        "    \"\"\"\n",
        "    Predict action probabilities given states.\n",
        "    :param states: numpy array of shape [batch, state_shape]\n",
        "    :returns: numpy array of shape [batch, n_actions]\n",
        "    \"\"\"\n",
        "    # convert states, compute logits, use softmax to get probability\n",
        "    with torch.no_grad():\n",
        "        # Convert states to torch tensor\n",
        "        states_tensor = torch.tensor(states, dtype=torch.float32)\n",
        "\n",
        "        # Pass states through the neural network\n",
        "        logits = model(states_tensor)\n",
        "\n",
        "        # Calculate probabilities using softmax\n",
        "        probs = torch.softmax(logits, dim=1)\n",
        "\n",
        "        # Convert the result back to a numpy array\n",
        "        probs_np = probs.numpy()\n",
        "\n",
        "    return probs_np"
      ]
    },
    {
      "cell_type": "code",
      "execution_count": 9,
      "metadata": {
        "id": "CK383N2yw4Hu"
      },
      "outputs": [],
      "source": [
        "test_states = np.array([env.reset()[0] for _ in range(5)])\n",
        "test_probas = predict_probs(test_states)\n",
        "assert isinstance(test_probas, np.ndarray), \\\n",
        "    \"you must return np array and not %s\" % type(test_probas)\n",
        "assert tuple(test_probas.shape) == (test_states.shape[0], env.action_space.n), \\\n",
        "    \"wrong output shape: %s\" % np.shape(test_probas)\n",
        "assert np.allclose(np.sum(test_probas, axis=1), 1), \"probabilities do not sum to 1\""
      ]
    },
    {
      "cell_type": "markdown",
      "metadata": {
        "id": "h5AtU-xRw4Hu"
      },
      "source": [
        "### Play the game\n",
        "\n",
        "We can now use our newly built agent to play the game."
      ]
    },
    {
      "cell_type": "code",
      "execution_count": 10,
      "metadata": {
        "id": "Cym0VMYgw4Hv"
      },
      "outputs": [],
      "source": [
        "def generate_session(env, t_max=1000):\n",
        "    \"\"\"\n",
        "    Play a full session with REINFORCE agent.\n",
        "    Returns sequences of states, actions, and rewards.\n",
        "    \"\"\"\n",
        "    # arrays to record session\n",
        "    states, actions, rewards = [], [], []\n",
        "\n",
        "    s = env.reset()[0]\n",
        "\n",
        "    for t in range(t_max):\n",
        "        # action probabilities array aka pi(a|s)\n",
        "        action_probs = predict_probs(np.array([s]))[0]\n",
        "\n",
        "        # Sample action with given probabilities.\n",
        "        a = np.random.choice(len(action_probs), p=action_probs)\n",
        "\n",
        "        new_s, r, terminated, truncated, info = env.step(a)\n",
        "\n",
        "        # record session history to train later\n",
        "        states.append(s)\n",
        "        actions.append(a)\n",
        "        rewards.append(r)\n",
        "\n",
        "        s = new_s\n",
        "        if terminated or truncated:\n",
        "            break\n",
        "\n",
        "    return states, actions, rewards"
      ]
    },
    {
      "cell_type": "code",
      "execution_count": 11,
      "metadata": {
        "id": "lFp25M9yw4Hv"
      },
      "outputs": [],
      "source": [
        "# test it\n",
        "states, actions, rewards = generate_session(env)"
      ]
    },
    {
      "cell_type": "markdown",
      "metadata": {
        "id": "fQxQEhsKw4Hv"
      },
      "source": [
        "### Computing cumulative rewards\n",
        "\n",
        "$$\n",
        "\\begin{align*}\n",
        "G_t &= r_t + \\gamma r_{t + 1} + \\gamma^2 r_{t + 2} + \\ldots \\\\\n",
        "&= \\sum_{i = t}^T \\gamma^{i - t} r_i \\\\\n",
        "&= r_t + \\gamma * G_{t + 1}\n",
        "\\end{align*}\n",
        "$$"
      ]
    },
    {
      "cell_type": "code",
      "execution_count": 12,
      "metadata": {
        "id": "F5rilZLXw4Hv"
      },
      "outputs": [],
      "source": [
        "def get_cumulative_rewards(rewards,  # rewards at each step\n",
        "                           gamma=0.99  # discount for reward\n",
        "                           ):\n",
        "    \"\"\"\n",
        "    Take a list of immediate rewards r(s,a) for the whole session\n",
        "    and compute cumulative returns (a.k.a. G(s,a) in Sutton '16).\n",
        "\n",
        "    G_t = r_t + gamma*r_{t+1} + gamma^2*r_{t+2} + ...\n",
        "\n",
        "    A simple way to compute cumulative rewards is to iterate from the last\n",
        "    to the first timestep and compute G_t = r_t + gamma*G_{t+1} recurrently\n",
        "\n",
        "    You must return an array/list of cumulative rewards with as many elements as in the initial rewards.\n",
        "    \"\"\"\n",
        "    cum_rewards = np.zeros_like(rewards, dtype=np.float32)\n",
        "    cumulative_reward = 0.0\n",
        "\n",
        "    for t in reversed(range(len(rewards))):\n",
        "        cumulative_reward = cumulative_reward * gamma + rewards[t]\n",
        "        cum_rewards[t] = cumulative_reward\n",
        "\n",
        "    return cum_rewards"
      ]
    },
    {
      "cell_type": "code",
      "execution_count": 13,
      "metadata": {
        "id": "tZOcpR86w4Hv",
        "outputId": "49134b01-517e-4fc5-81cc-36def5ba74a4",
        "colab": {
          "base_uri": "https://localhost:8080/"
        }
      },
      "outputs": [
        {
          "output_type": "stream",
          "name": "stdout",
          "text": [
            "looks good!\n"
          ]
        }
      ],
      "source": [
        "get_cumulative_rewards(rewards)\n",
        "assert len(get_cumulative_rewards(list(range(100)))) == 100\n",
        "assert np.allclose(\n",
        "    get_cumulative_rewards([0, 0, 1, 0, 0, 1, 0], gamma=0.9),\n",
        "    [1.40049, 1.5561, 1.729, 0.81, 0.9, 1.0, 0.0])\n",
        "assert np.allclose(\n",
        "    get_cumulative_rewards([0, 0, 1, -2, 3, -4, 0], gamma=0.5),\n",
        "    [0.0625, 0.125, 0.25, -1.5, 1.0, -4.0, 0.0])\n",
        "assert np.allclose(\n",
        "    get_cumulative_rewards([0, 0, 1, 2, 3, 4, 0], gamma=0),\n",
        "    [0, 0, 1, 2, 3, 4, 0])\n",
        "print(\"looks good!\")"
      ]
    },
    {
      "cell_type": "markdown",
      "metadata": {
        "id": "T3Uw0JWow4Hv"
      },
      "source": [
        "#### Loss function and updates\n",
        "\n",
        "We now need to define objective and update over policy gradient.\n",
        "\n",
        "Our objective function is\n",
        "\n",
        "$$ J \\approx  { 1 \\over N } \\sum_{s_i,a_i} G(s_i,a_i) $$\n",
        "\n",
        "REINFORCE defines a way to compute the gradient of the expected reward with respect to policy parameters. The formula is as follows:\n",
        "\n",
        "$$ \\nabla_\\theta \\hat J(\\theta) \\approx { 1 \\over N } \\sum_{s_i, a_i} \\nabla_\\theta \\log \\pi_\\theta (a_i \\mid s_i) \\cdot G_t(s_i, a_i) $$\n",
        "\n",
        "We can abuse PyTorch's capabilities for automatic differentiation by defining our objective function as follows:\n",
        "\n",
        "$$ \\hat J(\\theta) \\approx { 1 \\over N } \\sum_{s_i, a_i} \\log \\pi_\\theta (a_i \\mid s_i) \\cdot G_t(s_i, a_i) $$\n",
        "\n",
        "When you compute the gradient of that function with respect to network weights $\\theta$, it will become exactly the policy gradient."
      ]
    },
    {
      "cell_type": "code",
      "execution_count": 14,
      "metadata": {
        "id": "JPFG5WbJw4Hv"
      },
      "outputs": [],
      "source": [
        "# Your code: define optimizers\n",
        "optimizer = torch.optim.Adam(model.parameters(), 1e-3)\n",
        "\n",
        "\n",
        "def train_on_session(states, actions, rewards, gamma=0.99, entropy_coef=1e-2):\n",
        "    \"\"\"\n",
        "    Takes a sequence of states, actions and rewards produced by generate_session.\n",
        "    Updates agent's weights by following the policy gradient above.\n",
        "    Please use Adam optimizer with default parameters.\n",
        "    \"\"\"\n",
        "\n",
        "    # cast everything into torch tensors\n",
        "    states = torch.tensor(states, dtype=torch.float32)\n",
        "    actions = torch.tensor(actions, dtype=torch.int64)\n",
        "    cumulative_returns = np.array(get_cumulative_rewards(rewards, gamma))\n",
        "    cumulative_returns = torch.tensor(cumulative_returns, dtype=torch.float32)\n",
        "\n",
        "    # predict logits, probas and log-probas using an agent.\n",
        "    logits = model(states)\n",
        "    probs = nn.functional.softmax(logits, -1)\n",
        "    log_probs = nn.functional.log_softmax(logits, -1)\n",
        "\n",
        "    assert all(isinstance(v, torch.Tensor) for v in [logits, probs, log_probs]), \\\n",
        "        \"please use compute using torch tensors and don't use predict_probs function\"\n",
        "\n",
        "    # select log-probabilities for chosen actions, log pi(a_i|s_i)\n",
        "    log_probs_for_actions = torch.sum(\n",
        "        log_probs * F.one_hot(actions, env.action_space.n), dim=1)\n",
        "\n",
        "    # Compute loss here. Don't forgen entropy regularization with `entropy_coef`\n",
        "    entropy = -torch.sum(probs * log_probs)\n",
        "    loss = -torch.mean(log_probs_for_actions * cumulative_returns) - entropy_coef * entropy\n",
        "\n",
        "    # Gradient descent step\n",
        "    optimizer.zero_grad()\n",
        "    loss.backward()\n",
        "    optimizer.step()\n",
        "\n",
        "    # technical: return session rewards to print them later\n",
        "    return np.sum(rewards)"
      ]
    },
    {
      "cell_type": "code",
      "source": [
        "# Test the function\n",
        "test_states, test_actions, test_rewards = generate_session(env)\n",
        "train_on_session(test_states, test_actions, test_rewards)\n",
        "print(\"Training step completed successfully!\")"
      ],
      "metadata": {
        "id": "J0JgaNPP5sdx",
        "outputId": "6cfb974f-978b-4471-d734-dba0bf56ffad",
        "colab": {
          "base_uri": "https://localhost:8080/"
        }
      },
      "execution_count": 15,
      "outputs": [
        {
          "output_type": "stream",
          "name": "stdout",
          "text": [
            "Training step completed successfully!\n"
          ]
        },
        {
          "output_type": "stream",
          "name": "stderr",
          "text": [
            "<ipython-input-14-ae630294a79c>:13: UserWarning: Creating a tensor from a list of numpy.ndarrays is extremely slow. Please consider converting the list to a single numpy.ndarray with numpy.array() before converting to a tensor. (Triggered internally at ../torch/csrc/utils/tensor_new.cpp:261.)\n",
            "  states = torch.tensor(states, dtype=torch.float32)\n"
          ]
        }
      ]
    },
    {
      "cell_type": "markdown",
      "metadata": {
        "id": "WXOxFgdNw4Hv"
      },
      "source": [
        "### The actual training"
      ]
    },
    {
      "cell_type": "code",
      "execution_count": 10,
      "metadata": {
        "id": "OYpD4Bf6w4Hv",
        "outputId": "679371e6-ed48-4b24-df44-62a4a68d9da2",
        "colab": {
          "base_uri": "https://localhost:8080/"
        }
      },
      "outputs": [
        {
          "output_type": "stream",
          "name": "stdout",
          "text": [
            "mean reward: 20.410\n",
            "mean reward: 23.580\n",
            "mean reward: 24.630\n",
            "mean reward: 25.950\n",
            "mean reward: 27.110\n",
            "mean reward: 32.040\n",
            "mean reward: 35.790\n",
            "mean reward: 41.990\n",
            "mean reward: 47.660\n",
            "mean reward: 51.970\n",
            "mean reward: 73.750\n",
            "mean reward: 107.370\n",
            "mean reward: 137.180\n",
            "mean reward: 154.500\n",
            "mean reward: 164.960\n",
            "mean reward: 142.970\n",
            "mean reward: 159.680\n",
            "mean reward: 150.070\n",
            "mean reward: 179.830\n",
            "mean reward: 193.160\n",
            "mean reward: 207.920\n",
            "mean reward: 201.100\n",
            "mean reward: 178.080\n",
            "mean reward: 145.210\n",
            "mean reward: 103.610\n",
            "mean reward: 185.900\n",
            "mean reward: 149.950\n",
            "mean reward: 201.040\n",
            "mean reward: 243.820\n",
            "mean reward: 187.460\n",
            "mean reward: 167.890\n",
            "mean reward: 145.230\n",
            "mean reward: 174.620\n",
            "mean reward: 163.400\n",
            "mean reward: 143.250\n",
            "mean reward: 154.530\n",
            "mean reward: 201.220\n",
            "mean reward: 175.760\n",
            "mean reward: 172.980\n",
            "mean reward: 228.370\n",
            "mean reward: 204.810\n",
            "mean reward: 179.050\n",
            "mean reward: 277.280\n",
            "mean reward: 220.380\n",
            "mean reward: 191.790\n",
            "mean reward: 169.530\n",
            "mean reward: 300.660\n",
            "mean reward: 141.120\n",
            "mean reward: 161.430\n",
            "mean reward: 302.570\n",
            "mean reward: 152.480\n",
            "mean reward: 143.910\n",
            "mean reward: 158.130\n",
            "mean reward: 145.980\n",
            "mean reward: 225.350\n",
            "mean reward: 295.040\n",
            "mean reward: 325.050\n",
            "mean reward: 334.570\n",
            "mean reward: 186.080\n",
            "mean reward: 138.670\n",
            "mean reward: 136.830\n",
            "mean reward: 121.300\n",
            "mean reward: 170.940\n",
            "mean reward: 250.290\n",
            "mean reward: 154.710\n",
            "mean reward: 276.880\n",
            "mean reward: 352.620\n",
            "mean reward: 189.260\n",
            "mean reward: 138.350\n",
            "mean reward: 252.120\n",
            "mean reward: 293.060\n",
            "mean reward: 377.830\n",
            "mean reward: 307.620\n",
            "mean reward: 216.720\n",
            "mean reward: 177.670\n",
            "mean reward: 164.840\n",
            "mean reward: 212.170\n",
            "mean reward: 167.160\n",
            "mean reward: 146.430\n",
            "mean reward: 143.130\n",
            "mean reward: 186.820\n",
            "mean reward: 133.540\n",
            "mean reward: 195.630\n",
            "mean reward: 266.070\n",
            "mean reward: 181.690\n",
            "mean reward: 205.440\n",
            "mean reward: 182.730\n",
            "mean reward: 224.820\n",
            "mean reward: 211.570\n",
            "mean reward: 162.900\n",
            "mean reward: 140.160\n",
            "mean reward: 156.060\n",
            "mean reward: 142.520\n",
            "mean reward: 164.770\n",
            "mean reward: 192.290\n",
            "mean reward: 364.060\n",
            "mean reward: 305.400\n",
            "mean reward: 266.760\n",
            "mean reward: 190.930\n",
            "mean reward: 196.960\n"
          ]
        }
      ],
      "source": [
        "for i in range(100):\n",
        "    rewards = [train_on_session(*generate_session(env)) for _ in range(100)]  # generate new sessions\n",
        "\n",
        "    print(\"mean reward: %.3f\" % (np.mean(rewards)))\n",
        "\n",
        "    if np.mean(rewards) > 500:\n",
        "        print(\"You Win!\")  # but you can train even further\n",
        "        break"
      ]
    },
    {
      "cell_type": "markdown",
      "metadata": {
        "id": "DEMEz0PCw4Hv"
      },
      "source": [
        "### Results & video"
      ]
    },
    {
      "cell_type": "code",
      "execution_count": 17,
      "metadata": {
        "id": "OfrAKnifw4Hv",
        "outputId": "12c74e48-240a-43e5-9e83-7eee99da420f",
        "colab": {
          "base_uri": "https://localhost:8080/"
        }
      },
      "outputs": [
        {
          "output_type": "stream",
          "name": "stdout",
          "text": [
            "Moviepy - Building video /content/videos/rl-video-episode-0.mp4.\n",
            "Moviepy - Writing video /content/videos/rl-video-episode-0.mp4\n",
            "\n"
          ]
        },
        {
          "output_type": "stream",
          "name": "stderr",
          "text": []
        },
        {
          "output_type": "stream",
          "name": "stdout",
          "text": [
            "Moviepy - Done !\n",
            "Moviepy - video ready /content/videos/rl-video-episode-0.mp4\n",
            "Moviepy - Building video /content/videos/rl-video-episode-1.mp4.\n",
            "Moviepy - Writing video /content/videos/rl-video-episode-1.mp4\n",
            "\n"
          ]
        },
        {
          "output_type": "stream",
          "name": "stderr",
          "text": []
        },
        {
          "output_type": "stream",
          "name": "stdout",
          "text": [
            "Moviepy - Done !\n",
            "Moviepy - video ready /content/videos/rl-video-episode-1.mp4\n",
            "Moviepy - Building video /content/videos/rl-video-episode-8.mp4.\n",
            "Moviepy - Writing video /content/videos/rl-video-episode-8.mp4\n",
            "\n"
          ]
        },
        {
          "output_type": "stream",
          "name": "stderr",
          "text": []
        },
        {
          "output_type": "stream",
          "name": "stdout",
          "text": [
            "Moviepy - Done !\n",
            "Moviepy - video ready /content/videos/rl-video-episode-8.mp4\n"
          ]
        }
      ],
      "source": [
        "# Record sessions\n",
        "\n",
        "from gymnasium.wrappers import RecordVideo\n",
        "\n",
        "with gym.make(\"CartPole-v1\", render_mode=\"rgb_array\") as env, RecordVideo(\n",
        "    env=env, video_folder=\"./videos\"\n",
        ") as env_monitor:\n",
        "    sessions = [generate_session(env_monitor) for _ in range(10)]\n"
      ]
    },
    {
      "cell_type": "code",
      "execution_count": 18,
      "metadata": {
        "id": "C6aBpmRhw4Hv",
        "outputId": "edfc136a-f1bb-4229-dfa7-2bbb86e76cac",
        "colab": {
          "base_uri": "https://localhost:8080/",
          "height": 501
        }
      },
      "outputs": [
        {
          "output_type": "execute_result",
          "data": {
            "text/plain": [
              "<IPython.core.display.HTML object>"
            ],
            "text/html": [
              "\n",
              "<video width=\"640\" height=\"480\" controls>\n",
              "  <source src=\"data:video/mp4;base64,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\" type=\"video/mp4\">\n",
              "</video>\n"
            ]
          },
          "metadata": {},
          "execution_count": 18
        }
      ],
      "source": [
        "# Show video. This may not work in some setups. If it doesn't\n",
        "# work for you, you can download the videos and view them locally.\n",
        "\n",
        "from pathlib import Path\n",
        "from base64 import b64encode\n",
        "from IPython.display import HTML\n",
        "\n",
        "video_paths = sorted([s for s in Path('videos').iterdir() if s.suffix == '.mp4'])\n",
        "video_path = video_paths[-1]  # You can also try other indices\n",
        "\n",
        "if 'google.colab' in sys.modules:\n",
        "    # https://stackoverflow.com/a/57378660/1214547\n",
        "    with video_path.open('rb') as fp:\n",
        "        mp4 = fp.read()\n",
        "    data_url = 'data:video/mp4;base64,' + b64encode(mp4).decode()\n",
        "else:\n",
        "    data_url = str(video_path)\n",
        "\n",
        "HTML(\"\"\"\n",
        "<video width=\"640\" height=\"480\" controls>\n",
        "  <source src=\"{}\" type=\"video/mp4\">\n",
        "</video>\n",
        "\"\"\".format(data_url))"
      ]
    }
  ],
  "metadata": {
    "kernelspec": {
      "display_name": "Python 3",
      "name": "python3"
    },
    "language_info": {
      "codemirror_mode": {
        "name": "ipython",
        "version": 3
      },
      "file_extension": ".py",
      "mimetype": "text/x-python",
      "name": "python",
      "nbconvert_exporter": "python",
      "pygments_lexer": "ipython3",
      "version": "3.9.16"
    },
    "colab": {
      "provenance": []
    }
  },
  "nbformat": 4,
  "nbformat_minor": 0
}